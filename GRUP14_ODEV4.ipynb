{
  "nbformat": 4,
  "nbformat_minor": 0,
  "metadata": {
    "colab": {
      "provenance": []
    },
    "kernelspec": {
      "name": "python3",
      "display_name": "Python 3"
    },
    "language_info": {
      "name": "python"
    }
  },
  "cells": [
    {
      "cell_type": "code",
      "execution_count": null,
      "metadata": {
        "colab": {
          "base_uri": "https://localhost:8080/"
        },
        "id": "DrM6ljazwkOf",
        "outputId": "acb33e97-d0ac-4c7c-8b1f-b554332aa5fb"
      },
      "outputs": [
        {
          "output_type": "stream",
          "name": "stdout",
          "text": [
            "Örnek yorum (metin): ? this film was just brilliant casting location scenery story direction everyone's really suited the part they played and you could just imagine being there robert ? is an amazing actor and now the same being director ? father came from the same scottish island as myself so i loved the fact there was a real connection with this film the witty remarks throughout the film were great it was just brilliant so much that i bought the film as soon as it was released for ? and would recommend it to everyone to watch and the fly fishing was amazing really cried at the end it was so sad and you know what they say if you cry at a film it must have been good and this definitely was also ? to the two little boy's that played the ? of norman and paul they were just brilliant children are often left out of the ? list i think because the stars that play them all grown up are such a big profile for the whole film but these children are amazing and should be praised for what they have done don't you think the whole story was so lovely because it was true and was someone's life after all that was shared with us all\n",
            "Etiketi: Pozitif\n"
          ]
        }
      ],
      "source": [
        "import tensorflow as tf\n",
        "from tensorflow.keras.datasets import imdb\n",
        "\n",
        "# Yalnızca en sık geçen 10.000 kelimeyi kullan (diğerlerini dışla)\n",
        "num_words = 10000\n",
        "(x_train, y_train), (x_test, y_test) = imdb.load_data(num_words=num_words)\n",
        "\n",
        "# Kelime indeks sözlüğünü al\n",
        "word_index = imdb.get_word_index()\n",
        "reverse_word_index = {value: key for key, value in word_index.items()}\n",
        "\n",
        "# Bir örnek yorumun metne çevrilmiş hali:\n",
        "decoded_review = ' '.join([reverse_word_index.get(i - 3, '?') for i in x_train[0]])\n",
        "\n",
        "print(\"Örnek yorum (metin):\", decoded_review)\n",
        "print(\"Etiketi:\", \"Pozitif\" if y_train[0] == 1 else \"Negatif\")"
      ]
    },
    {
      "cell_type": "code",
      "source": [
        "import numpy as np\n",
        "from sklearn.feature_extraction.text import TfidfVectorizer\n",
        "from sklearn.linear_model import LogisticRegression\n",
        "from sklearn.metrics import accuracy_score, classification_report\n",
        "\n",
        "# 1. Sayısal dizileri tekrar metne çevir (ilk 10.000 kelime sınırıyla)\n",
        "def decode_review(sequence):\n",
        "    return ' '.join([reverse_word_index.get(i - 3, '?') for i in sequence])\n",
        "\n",
        "x_train_text = [decode_review(x) for x in x_train]\n",
        "x_test_text = [decode_review(x) for x in x_test]\n",
        "\n",
        "# 2. TF-IDF vektörlerine çevir\n",
        "vectorizer = TfidfVectorizer(max_features=10000)\n",
        "X_train_tfidf = vectorizer.fit_transform(x_train_text)\n",
        "X_test_tfidf = vectorizer.transform(x_test_text)\n",
        "\n",
        "# 3. Lojistik Regresyon Modeli\n",
        "model = LogisticRegression(max_iter=1000)\n",
        "model.fit(X_train_tfidf, y_train)\n",
        "\n",
        "# 4. Test verisi ile tahmin\n",
        "y_pred = model.predict(X_test_tfidf)\n",
        "\n",
        "# 5. Değerlendirme\n",
        "accuracy = accuracy_score(y_test, y_pred)\n",
        "print(f\"Doğruluk: {accuracy:.4f}\")\n",
        "print(\"\\nClassification Report:\\n\", classification_report(y_test, y_pred))"
      ],
      "metadata": {
        "colab": {
          "base_uri": "https://localhost:8080/"
        },
        "id": "zIZL5Otaxrky",
        "outputId": "0683f087-3b19-43b5-d05a-77b40768a34a"
      },
      "execution_count": null,
      "outputs": [
        {
          "output_type": "stream",
          "name": "stdout",
          "text": [
            "Doğruluk: 0.8842\n",
            "\n",
            "Classification Report:\n",
            "               precision    recall  f1-score   support\n",
            "\n",
            "           0       0.88      0.88      0.88     12500\n",
            "           1       0.88      0.88      0.88     12500\n",
            "\n",
            "    accuracy                           0.88     25000\n",
            "   macro avg       0.88      0.88      0.88     25000\n",
            "weighted avg       0.88      0.88      0.88     25000\n",
            "\n"
          ]
        }
      ]
    },
    {
      "cell_type": "code",
      "source": [
        "from tensorflow.keras.models import Sequential\n",
        "from tensorflow.keras.layers import Embedding, LSTM, Dense\n",
        "from tensorflow.keras.preprocessing.sequence import pad_sequences\n",
        "\n",
        "# Maksimum yorum uzunluğu (tüm diziler bu uzunlukta olacak)\n",
        "maxlen = 200\n",
        "\n",
        "# Yorumları aynı uzunluğa getir\n",
        "x_train_pad = pad_sequences(x_train, maxlen=maxlen)\n",
        "x_test_pad = pad_sequences(x_test, maxlen=maxlen)\n",
        "\n",
        "# Modeli oluştur\n",
        "model = Sequential([\n",
        "    Embedding(input_dim=num_words, output_dim=128, input_length=maxlen),\n",
        "    LSTM(64),\n",
        "    Dense(1, activation='sigmoid')\n",
        "])\n",
        "\n",
        "model.compile(optimizer='adam', loss='binary_crossentropy', metrics=['accuracy'])\n",
        "\n",
        "# Eğitim\n",
        "history = model.fit(x_train_pad, y_train, epochs=3, batch_size=128, validation_split=0.2)\n",
        "\n",
        "# Test verisi ile değerlendir\n",
        "loss, accuracy = model.evaluate(x_test_pad, y_test)\n",
        "print(f\"\\nTest Doğruluğu: {accuracy:.4f}\")"
      ],
      "metadata": {
        "colab": {
          "base_uri": "https://localhost:8080/"
        },
        "id": "Yl_OKrayx0cq",
        "outputId": "eb7c693a-90c4-4620-c26b-e7740d2dd325"
      },
      "execution_count": null,
      "outputs": [
        {
          "output_type": "stream",
          "name": "stderr",
          "text": [
            "/usr/local/lib/python3.11/dist-packages/keras/src/layers/core/embedding.py:90: UserWarning: Argument `input_length` is deprecated. Just remove it.\n",
            "  warnings.warn(\n"
          ]
        },
        {
          "output_type": "stream",
          "name": "stdout",
          "text": [
            "Epoch 1/3\n",
            "\u001b[1m157/157\u001b[0m \u001b[32m━━━━━━━━━━━━━━━━━━━━\u001b[0m\u001b[37m\u001b[0m \u001b[1m67s\u001b[0m 392ms/step - accuracy: 0.6923 - loss: 0.5689 - val_accuracy: 0.8294 - val_loss: 0.3913\n",
            "Epoch 2/3\n",
            "\u001b[1m157/157\u001b[0m \u001b[32m━━━━━━━━━━━━━━━━━━━━\u001b[0m\u001b[37m\u001b[0m \u001b[1m82s\u001b[0m 395ms/step - accuracy: 0.9001 - loss: 0.2597 - val_accuracy: 0.8634 - val_loss: 0.3120\n",
            "Epoch 3/3\n",
            "\u001b[1m157/157\u001b[0m \u001b[32m━━━━━━━━━━━━━━━━━━━━\u001b[0m\u001b[37m\u001b[0m \u001b[1m81s\u001b[0m 392ms/step - accuracy: 0.9350 - loss: 0.1782 - val_accuracy: 0.8290 - val_loss: 0.3739\n",
            "\u001b[1m782/782\u001b[0m \u001b[32m━━━━━━━━━━━━━━━━━━━━\u001b[0m\u001b[37m\u001b[0m \u001b[1m26s\u001b[0m 33ms/step - accuracy: 0.8314 - loss: 0.3795\n",
            "\n",
            "Test Doğruluğu: 0.8334\n"
          ]
        }
      ]
    },
    {
      "cell_type": "markdown",
      "source": [
        "SONUÇ KARŞILAŞTIRMASI\n",
        "\n",
        "Word Embedding KULLANMADAN:\n",
        "\n",
        "-Kelime sırasını dikkate almaz.\n",
        "\n",
        "-Daha hızlı çalışır.\n",
        "\n",
        "-Temel modelleme için yeterlidir.\n",
        "\n",
        "-Ancak bağlam ve anlam eksikliği nedeniyle sınırlı başarı sağlar.\n",
        "\n",
        "\n",
        "\n",
        "\n",
        "Word Embedding KULLANARAK:\n",
        "\n",
        "-Kelimeler arası bağlamı öğrenir.\n",
        "\n",
        "-Daha iyi genelleme yapar.\n",
        "\n",
        "-Eğitim süresi daha uzundur.\n",
        "\n",
        "-Sonuçlar genellikle daha başarılıdır."
      ],
      "metadata": {
        "id": "VXFqTFsfy3ps"
      }
    },
    {
      "cell_type": "markdown",
      "source": [
        "Embedding projector görselleştirmesi:"
      ],
      "metadata": {
        "id": "BOmAJ2Cq2MV7"
      }
    },
    {
      "cell_type": "code",
      "source": [
        "# Embedding katmanını al\n",
        "embedding_layer = model.layers[0]\n",
        "embedding_weights = embedding_layer.get_weights()[0]\n",
        "\n",
        "print(\"Embedding shape:\", embedding_weights.shape)"
      ],
      "metadata": {
        "colab": {
          "base_uri": "https://localhost:8080/",
          "height": 211
        },
        "id": "Q0Hx2T2e2S3a",
        "outputId": "fd68a460-c4f3-4658-bc8b-333a2bb2e6e0"
      },
      "execution_count": 1,
      "outputs": [
        {
          "output_type": "error",
          "ename": "NameError",
          "evalue": "name 'model' is not defined",
          "traceback": [
            "\u001b[0;31m---------------------------------------------------------------------------\u001b[0m",
            "\u001b[0;31mNameError\u001b[0m                                 Traceback (most recent call last)",
            "\u001b[0;32m<ipython-input-1-d60fc477d759>\u001b[0m in \u001b[0;36m<cell line: 0>\u001b[0;34m()\u001b[0m\n\u001b[1;32m      1\u001b[0m \u001b[0;31m# Embedding katmanını al\u001b[0m\u001b[0;34m\u001b[0m\u001b[0;34m\u001b[0m\u001b[0m\n\u001b[0;32m----> 2\u001b[0;31m \u001b[0membedding_layer\u001b[0m \u001b[0;34m=\u001b[0m \u001b[0mmodel\u001b[0m\u001b[0;34m.\u001b[0m\u001b[0mlayers\u001b[0m\u001b[0;34m[\u001b[0m\u001b[0;36m0\u001b[0m\u001b[0;34m]\u001b[0m\u001b[0;34m\u001b[0m\u001b[0;34m\u001b[0m\u001b[0m\n\u001b[0m\u001b[1;32m      3\u001b[0m \u001b[0membedding_weights\u001b[0m \u001b[0;34m=\u001b[0m \u001b[0membedding_layer\u001b[0m\u001b[0;34m.\u001b[0m\u001b[0mget_weights\u001b[0m\u001b[0;34m(\u001b[0m\u001b[0;34m)\u001b[0m\u001b[0;34m[\u001b[0m\u001b[0;36m0\u001b[0m\u001b[0;34m]\u001b[0m\u001b[0;34m\u001b[0m\u001b[0;34m\u001b[0m\u001b[0m\n\u001b[1;32m      4\u001b[0m \u001b[0;34m\u001b[0m\u001b[0m\n\u001b[1;32m      5\u001b[0m \u001b[0mprint\u001b[0m\u001b[0;34m(\u001b[0m\u001b[0;34m\"Embedding shape:\"\u001b[0m\u001b[0;34m,\u001b[0m \u001b[0membedding_weights\u001b[0m\u001b[0;34m.\u001b[0m\u001b[0mshape\u001b[0m\u001b[0;34m)\u001b[0m\u001b[0;34m\u001b[0m\u001b[0;34m\u001b[0m\u001b[0m\n",
            "\u001b[0;31mNameError\u001b[0m: name 'model' is not defined"
          ]
        }
      ]
    },
    {
      "cell_type": "code",
      "source": [
        "# Kelime indekslerini al\n",
        "word_index = imdb.get_word_index()\n",
        "reverse_word_index = {value: key for key, value in word_index.items()}\n",
        "\n",
        "# İlk 1000 kelimeyi görselleştir (ID 3'ten başla)\n",
        "with open(\"/content/metadata.tsv\", \"w\", encoding=\"utf-8\") as f:\n",
        "    for i in range(3, 1003):  # ilk 3 ID özel token\n",
        "        word = reverse_word_index.get(i - 3, \"?\")\n",
        "        f.write(word + \"\\n\")"
      ],
      "metadata": {
        "id": "ucFasWu22WD-"
      },
      "execution_count": null,
      "outputs": []
    },
    {
      "cell_type": "code",
      "source": [
        "with open(\"/content/vectors.tsv\", \"w\", encoding=\"utf-8\") as f:\n",
        "    for i in range(3, 1003):\n",
        "        vector = embedding_weights[i]\n",
        "        f.write('\\t'.join([str(x) for x in vector]) + \"\\n\")"
      ],
      "metadata": {
        "id": "RLGioenb2aWg"
      },
      "execution_count": null,
      "outputs": []
    },
    {
      "cell_type": "code",
      "source": [
        "from google.colab import files\n",
        "\n",
        "files.download(\"/content/metadata.tsv\")\n",
        "files.download(\"/content/vectors.tsv\")"
      ],
      "metadata": {
        "colab": {
          "base_uri": "https://localhost:8080/",
          "height": 17
        },
        "id": "utv2JvL62b7m",
        "outputId": "b8f524ba-9190-4349-a4cf-2babd1fd1478"
      },
      "execution_count": null,
      "outputs": [
        {
          "output_type": "display_data",
          "data": {
            "text/plain": [
              "<IPython.core.display.Javascript object>"
            ],
            "application/javascript": [
              "\n",
              "    async function download(id, filename, size) {\n",
              "      if (!google.colab.kernel.accessAllowed) {\n",
              "        return;\n",
              "      }\n",
              "      const div = document.createElement('div');\n",
              "      const label = document.createElement('label');\n",
              "      label.textContent = `Downloading \"${filename}\": `;\n",
              "      div.appendChild(label);\n",
              "      const progress = document.createElement('progress');\n",
              "      progress.max = size;\n",
              "      div.appendChild(progress);\n",
              "      document.body.appendChild(div);\n",
              "\n",
              "      const buffers = [];\n",
              "      let downloaded = 0;\n",
              "\n",
              "      const channel = await google.colab.kernel.comms.open(id);\n",
              "      // Send a message to notify the kernel that we're ready.\n",
              "      channel.send({})\n",
              "\n",
              "      for await (const message of channel.messages) {\n",
              "        // Send a message to notify the kernel that we're ready.\n",
              "        channel.send({})\n",
              "        if (message.buffers) {\n",
              "          for (const buffer of message.buffers) {\n",
              "            buffers.push(buffer);\n",
              "            downloaded += buffer.byteLength;\n",
              "            progress.value = downloaded;\n",
              "          }\n",
              "        }\n",
              "      }\n",
              "      const blob = new Blob(buffers, {type: 'application/binary'});\n",
              "      const a = document.createElement('a');\n",
              "      a.href = window.URL.createObjectURL(blob);\n",
              "      a.download = filename;\n",
              "      div.appendChild(a);\n",
              "      a.click();\n",
              "      div.remove();\n",
              "    }\n",
              "  "
            ]
          },
          "metadata": {}
        },
        {
          "output_type": "display_data",
          "data": {
            "text/plain": [
              "<IPython.core.display.Javascript object>"
            ],
            "application/javascript": [
              "download(\"download_9a1b1b34-312b-4d91-8e57-f967967663a2\", \"vectors.tsv\", 1573204)"
            ]
          },
          "metadata": {}
        }
      ]
    }
  ]
}